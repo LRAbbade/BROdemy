{
 "cells": [
  {
   "cell_type": "markdown",
   "metadata": {},
   "source": [
    "# Código de gerenciamento do DB"
   ]
  },
  {
   "cell_type": "code",
   "execution_count": 19,
   "metadata": {
    "collapsed": true
   },
   "outputs": [],
   "source": [
    "import pymongo\n",
    "from pymongo import MongoClient\n",
    "from pprint import pprint\n",
    "from bson.objectid import ObjectId\n",
    "from connection_uri import uri"
   ]
  },
  {
   "cell_type": "code",
   "execution_count": 20,
   "metadata": {
    "collapsed": true
   },
   "outputs": [],
   "source": [
    "client = MongoClient(uri)\n",
    "db = client.brodemy"
   ]
  },
  {
   "cell_type": "markdown",
   "metadata": {},
   "source": [
    "### Remover uma aula de um curso"
   ]
  },
  {
   "cell_type": "code",
   "execution_count": 31,
   "metadata": {
    "collapsed": true
   },
   "outputs": [],
   "source": [
    "# remove a class from a course by its ID, returns 1 if class is found, if not, 0\n",
    "def remove_class_from_course(course_id, class_number):\n",
    "    query = {\n",
    "        \"_id\" : course_id\n",
    "    }\n",
    "    \n",
    "    update = {\n",
    "        \"$pull\" : {\n",
    "            \"classes\" : {\n",
    "                \"number\" : class_number\n",
    "            }\n",
    "        }\n",
    "    }\n",
    "    \n",
    "    r = db.courses.update_one(query, update)\n",
    "    return r.modified_count"
   ]
  },
  {
   "cell_type": "code",
   "execution_count": 29,
   "metadata": {},
   "outputs": [
    {
     "data": {
      "text/plain": [
       "1"
      ]
     },
     "execution_count": 29,
     "metadata": {},
     "output_type": "execute_result"
    }
   ],
   "source": [
    "remove_class_from_course(mongo_course_id, 1)"
   ]
  },
  {
   "cell_type": "code",
   "execution_count": 30,
   "metadata": {},
   "outputs": [
    {
     "data": {
      "text/plain": [
       "{'_id': ObjectId('5b1169eb31b35202d4c8ef5c'),\n",
       " 'category': {'category': 'banco de dados', 'sub_category': 'mongodb'},\n",
       " 'classes': [],\n",
       " 'description': 'Introductory MongoDB',\n",
       " 'image_src': None,\n",
       " 'instructor_id': ObjectId('5b0f392031b3522887252ad1'),\n",
       " 'level': 'basic',\n",
       " 'name': 'MongoDB Basics',\n",
       " 'requisites': []}"
      ]
     },
     "execution_count": 30,
     "metadata": {},
     "output_type": "execute_result"
    }
   ],
   "source": [
    "db.courses.find_one({\"name\":{\"$regex\":\"mongodb\", \"$options\":\"i\"}})"
   ]
  },
  {
   "cell_type": "code",
   "execution_count": 27,
   "metadata": {},
   "outputs": [
    {
     "name": "stdout",
     "output_type": "stream",
     "text": [
      "{'_id': ObjectId('5b1169eb31b35202d4c8ef5c'),\n",
      " 'category': {'category': 'banco de dados', 'sub_category': 'mongodb'},\n",
      " 'classes': [{'description': 'Course presentation',\n",
      "              'duration': 5.0,\n",
      "              'name': 'Introduction',\n",
      "              'number': 1.0,\n",
      "              'url': 'http://www.youtube.com/watch?v=9OPP_1eAENg'}],\n",
      " 'description': 'Introductory MongoDB',\n",
      " 'image_src': None,\n",
      " 'instructor_id': ObjectId('5b0f392031b3522887252ad1'),\n",
      " 'level': 'basic',\n",
      " 'name': 'MongoDB Basics',\n",
      " 'requisites': []}\n"
     ]
    }
   ],
   "source": [
    "mongo_course = db.courses.find_one({\"name\":\"MongoDB Basics\"})\n",
    "pprint(mongo_course)"
   ]
  },
  {
   "cell_type": "code",
   "execution_count": 28,
   "metadata": {},
   "outputs": [
    {
     "data": {
      "text/plain": [
       "ObjectId('5b1169eb31b35202d4c8ef5c')"
      ]
     },
     "execution_count": 28,
     "metadata": {},
     "output_type": "execute_result"
    }
   ],
   "source": [
    "mongo_course_id = mongo_course['_id']\n",
    "mongo_course_id"
   ]
  },
  {
   "cell_type": "code",
   "execution_count": 8,
   "metadata": {},
   "outputs": [
    {
     "name": "stdout",
     "output_type": "stream",
     "text": [
      "{'_id': ObjectId('5b11681c31b35202d4c8ef59'),\n",
      " 'courses': [ObjectId('5b1169eb31b35202d4c8ef5c'),\n",
      "             ObjectId('5b11693e31b35202d4c8ef5a')],\n",
      " 'email': 'maria.jose@gmail.com',\n",
      " 'name': 'maria',\n",
      " 'password': 'jose'}\n"
     ]
    }
   ],
   "source": [
    "maria = db.users.find_one({\"email\":\"maria.jose@gmail.com\"})\n",
    "pprint(maria)"
   ]
  },
  {
   "cell_type": "code",
   "execution_count": 9,
   "metadata": {},
   "outputs": [
    {
     "data": {
      "text/plain": [
       "ObjectId('5b11681c31b35202d4c8ef59')"
      ]
     },
     "execution_count": 9,
     "metadata": {},
     "output_type": "execute_result"
    }
   ],
   "source": [
    "maria_id = maria['_id']\n",
    "maria_id"
   ]
  },
  {
   "cell_type": "markdown",
   "metadata": {},
   "source": [
    "### Checar se o usuário é inscrito no curso"
   ]
  },
  {
   "cell_type": "code",
   "execution_count": 15,
   "metadata": {},
   "outputs": [],
   "source": [
    "def check_if_user_has_course(user_id, course_id):\n",
    "    match = {\n",
    "        \"$match\" : {\n",
    "            \"_id\" : user_id\n",
    "        }\n",
    "    }\n",
    "    \n",
    "    project = {\n",
    "        \"$project\" : {\n",
    "            \"has_course\" : {\n",
    "                \"$in\" : [\n",
    "                    course_id, \n",
    "                    \"$courses\"\n",
    "                ]\n",
    "            }\n",
    "        }\n",
    "    }\n",
    "    \n",
    "    match2 = {\n",
    "        \"$match\" : {\n",
    "            \"has_course\" : True\n",
    "        }\n",
    "    }\n",
    "    \n",
    "    pipeline = [match, project, match2]\n",
    "    \n",
    "    return list(db.users.aggregate(pipeline))"
   ]
  },
  {
   "cell_type": "code",
   "execution_count": 16,
   "metadata": {},
   "outputs": [
    {
     "data": {
      "text/plain": [
       "[{'_id': ObjectId('5b11681c31b35202d4c8ef59'), 'has_course': True}]"
      ]
     },
     "execution_count": 16,
     "metadata": {},
     "output_type": "execute_result"
    }
   ],
   "source": [
    "check_if_user_has_course(maria_id, mongo_course_id)"
   ]
  },
  {
   "cell_type": "markdown",
   "metadata": {},
   "source": [
    "### Buscar curso por regex"
   ]
  },
  {
   "cell_type": "code",
   "execution_count": 17,
   "metadata": {
    "collapsed": true
   },
   "outputs": [],
   "source": [
    "def search_course_by_partial_name(name):\n",
    "    query = {\n",
    "        \"name\" : {\n",
    "            \"$regex\" : name,\n",
    "            \"$options\" : \"i\"\n",
    "        }\n",
    "    }\n",
    "    \n",
    "    return list(db.courses.find(query))"
   ]
  },
  {
   "cell_type": "code",
   "execution_count": 18,
   "metadata": {},
   "outputs": [
    {
     "data": {
      "text/plain": [
       "[{'_id': ObjectId('5b11693e31b35202d4c8ef5a'),\n",
       "  'category': {'category': 'software', 'sub_category': 'python'},\n",
       "  'classes': [],\n",
       "  'description': 'Introductory Python',\n",
       "  'image_src': None,\n",
       "  'instructor_id': ObjectId('5b0f392031b3522887252ad1'),\n",
       "  'level': 'basic',\n",
       "  'name': 'Python 101',\n",
       "  'requisites': []}]"
      ]
     },
     "execution_count": 18,
     "metadata": {},
     "output_type": "execute_result"
    }
   ],
   "source": [
    "search_course_by_partial_name(\"python\")"
   ]
  },
  {
   "cell_type": "markdown",
   "metadata": {},
   "source": [
    "### Criar uma categoria"
   ]
  },
  {
   "cell_type": "code",
   "execution_count": 42,
   "metadata": {
    "collapsed": true
   },
   "outputs": [],
   "source": [
    "def create_category(name):\n",
    "    document = {\n",
    "        \"category\" : name,\n",
    "        \"subs\" : []\n",
    "    }\n",
    "    \n",
    "    r = db.categories.insert_one(document)\n",
    "    return r.inserted_id"
   ]
  },
  {
   "cell_type": "code",
   "execution_count": 6,
   "metadata": {},
   "outputs": [
    {
     "data": {
      "text/plain": [
       "ObjectId('5b1f01f231b3525df1082a61')"
      ]
     },
     "execution_count": 6,
     "metadata": {},
     "output_type": "execute_result"
    }
   ],
   "source": [
    "create_category(\"Teste\")"
   ]
  },
  {
   "cell_type": "markdown",
   "metadata": {},
   "source": [
    "### Adicionar uma sub-categoria à categoria"
   ]
  },
  {
   "cell_type": "code",
   "execution_count": 43,
   "metadata": {
    "collapsed": true
   },
   "outputs": [],
   "source": [
    "def add_sub_category(category, sub_category):\n",
    "    if not isinstance(sub_category, str):\n",
    "        raise TypeError(\"Sub-category should be a string\")\n",
    "        \n",
    "    update = {\n",
    "        \"$push\" : {\n",
    "            \"subs\" : sub_category\n",
    "        }\n",
    "    }\n",
    "    \n",
    "    r = db.categories.update_one({\"category\" : category}, update)\n",
    "    return r.acknowledged"
   ]
  },
  {
   "cell_type": "code",
   "execution_count": 4,
   "metadata": {},
   "outputs": [
    {
     "data": {
      "text/plain": [
       "True"
      ]
     },
     "execution_count": 4,
     "metadata": {},
     "output_type": "execute_result"
    }
   ],
   "source": [
    "add_sub_category(\"Software\", \"Prolog\")"
   ]
  },
  {
   "cell_type": "markdown",
   "metadata": {},
   "source": [
    "### Descobrir a categoria a qual uma sub-categoria pertence"
   ]
  },
  {
   "cell_type": "code",
   "execution_count": 44,
   "metadata": {
    "collapsed": true
   },
   "outputs": [],
   "source": [
    "def get_category_by_sub(sub_name):\n",
    "    project = {\n",
    "        \"$project\" : {\n",
    "            \"category\" : 1,\n",
    "            \"has_sub\" : {\n",
    "                \"$in\" : [\n",
    "                    sub_name, \"$subs\"\n",
    "                ]\n",
    "            }\n",
    "        }\n",
    "    }\n",
    "    \n",
    "    match = {\n",
    "        \"$match\" : {\n",
    "            \"has_sub\" : True\n",
    "        }\n",
    "    }\n",
    "    \n",
    "    pipeline = [project, match]\n",
    "    r = list(db.categories.aggregate(pipeline))\n",
    "    r = [i['category'] for i in r]\n",
    "    \n",
    "    if len(r) != 1:\n",
    "        print(\"Multiple categories returned true\")\n",
    "    else:\n",
    "        r = r[0]\n",
    "        \n",
    "    return r"
   ]
  },
  {
   "cell_type": "code",
   "execution_count": 24,
   "metadata": {},
   "outputs": [
    {
     "data": {
      "text/plain": [
       "'Software'"
      ]
     },
     "execution_count": 24,
     "metadata": {},
     "output_type": "execute_result"
    }
   ],
   "source": [
    "get_category_by_sub(\"Javascript\")"
   ]
  },
  {
   "cell_type": "markdown",
   "metadata": {},
   "source": [
    "### Criar um documento de usuário"
   ]
  },
  {
   "cell_type": "code",
   "execution_count": 45,
   "metadata": {
    "collapsed": true
   },
   "outputs": [],
   "source": [
    "def make_user(name, password, email):\n",
    "    user = {\n",
    "        \"name\" : name,\n",
    "        \"password\" : password,\n",
    "        \"email\" : email,\n",
    "        \"courses\" : []\n",
    "    }\n",
    "    \n",
    "    return user"
   ]
  },
  {
   "cell_type": "markdown",
   "metadata": {},
   "source": [
    "### Criar um documento de curso"
   ]
  },
  {
   "cell_type": "code",
   "execution_count": 71,
   "metadata": {
    "collapsed": true
   },
   "outputs": [],
   "source": [
    "def make_course(name, description, instructor_id, category, level, requisites = [], image_src = None):\n",
    "    if not isinstance(requisites, list):\n",
    "        raise TypeError('requisites should be a list')\n",
    "    if not isinstance(instructor_id, ObjectId):\n",
    "        raise TypeError('instructor_id should be an ObjectId')\n",
    "    if not isinstance(category, dict):\n",
    "        raise TypeError('category should be a dict')\n",
    "        \n",
    "    course = {\n",
    "        \"name\" : name, \n",
    "        \"description\" : description,\n",
    "        \"requisites\" : requisites,\n",
    "        \"level\" : level,\n",
    "        \"image_src\" : image_src,\n",
    "        \"instructor_id\" : instructor_id,\n",
    "        \"category\" : category,\n",
    "        \"classes\" : []\n",
    "    }\n",
    "    \n",
    "    return course"
   ]
  },
  {
   "cell_type": "markdown",
   "metadata": {},
   "source": [
    "### Criar um documento de categoria"
   ]
  },
  {
   "cell_type": "code",
   "execution_count": 69,
   "metadata": {
    "collapsed": true
   },
   "outputs": [],
   "source": [
    "def make_category(category, sub_category):\n",
    "    category_doc =  { \n",
    "        \"category\" : category,\n",
    "        \"sub_category\" : sub_category\n",
    "    }\n",
    "    \n",
    "    return category_doc"
   ]
  },
  {
   "cell_type": "markdown",
   "metadata": {},
   "source": [
    "### Criar um documento de aula"
   ]
  },
  {
   "cell_type": "code",
   "execution_count": 47,
   "metadata": {
    "collapsed": true
   },
   "outputs": [],
   "source": [
    "def make_class(number, name, description, duration, url):\n",
    "    aula = {\n",
    "        \"number\" : number,\n",
    "        \"name\" : name,\n",
    "        \"description\" : description,\n",
    "        \"duration\" : duration,\n",
    "        \"url\" : url\n",
    "    }\n",
    "    \n",
    "    return aula"
   ]
  },
  {
   "cell_type": "markdown",
   "metadata": {},
   "source": [
    "## Adicionar uma aula ao curso"
   ]
  },
  {
   "cell_type": "code",
   "execution_count": 48,
   "metadata": {
    "collapsed": true
   },
   "outputs": [],
   "source": [
    "def add_class_to_course(course, aula):\n",
    "    if not isinstance(aula, dict):\n",
    "        raise TypeError('aula should be a dict')\n",
    "    if not isinstance(course, ObjectId):\n",
    "        raise TypeError('course should be the ObjectId of the course')\n",
    "        \n",
    "    query = {\n",
    "        \"_id\" : course\n",
    "    }\n",
    "    \n",
    "    update = {\n",
    "        \"$push\" : {\n",
    "            \"classes\" : aula\n",
    "        }\n",
    "    }\n",
    "    \n",
    "    r = db.courses.update_one(query, update)\n",
    "    return r.acknowledged"
   ]
  },
  {
   "cell_type": "markdown",
   "metadata": {},
   "source": [
    "## Adicionar o curso ao usuário"
   ]
  },
  {
   "cell_type": "code",
   "execution_count": 49,
   "metadata": {
    "collapsed": true
   },
   "outputs": [],
   "source": [
    "def add_course_to_user(user, course):\n",
    "    if not isinstance(course, ObjectId):\n",
    "        raise TypeError('course should be the ObjectId of the course')\n",
    "    if not isinstance(user, ObjectId):\n",
    "        raise TypeError('user should be the ObjectId of the user')\n",
    "    \n",
    "    query = {\n",
    "        \"_id\" : user\n",
    "    }\n",
    "    \n",
    "    update = {\n",
    "        \"$push\" : {\n",
    "            \"courses\" : course\n",
    "        }\n",
    "    }\n",
    "    \n",
    "    r = db.users.update_one(query, update)\n",
    "    return r.acknowledged"
   ]
  },
  {
   "cell_type": "markdown",
   "metadata": {},
   "source": [
    "## Adicionar usuário"
   ]
  },
  {
   "cell_type": "code",
   "execution_count": 50,
   "metadata": {
    "collapsed": true
   },
   "outputs": [],
   "source": [
    "def add_user(user):\n",
    "    if not isinstance(user, dict):\n",
    "        raise TypeError('user should be a dict')\n",
    "        \n",
    "    r = db.users.insert_one(user)\n",
    "    return r.inserted_id"
   ]
  },
  {
   "cell_type": "markdown",
   "metadata": {},
   "source": [
    "## Adicionar curso"
   ]
  },
  {
   "cell_type": "code",
   "execution_count": 51,
   "metadata": {
    "collapsed": true
   },
   "outputs": [],
   "source": [
    "def add_course(course):\n",
    "    if not isinstance(course, dict):\n",
    "        raise TypeError('course should be a dict')\n",
    "        \n",
    "    r = db.courses.insert_one(course)\n",
    "    return r.inserted_id"
   ]
  },
  {
   "cell_type": "code",
   "execution_count": 43,
   "metadata": {},
   "outputs": [
    {
     "data": {
      "text/plain": [
       "ObjectId('5b11681c31b35202d4c8ef59')"
      ]
     },
     "execution_count": 43,
     "metadata": {},
     "output_type": "execute_result"
    }
   ],
   "source": [
    "add_user(make_user(\"maria\", \"jose\", \"maria.jose@gmail.com\"))"
   ]
  },
  {
   "cell_type": "code",
   "execution_count": 45,
   "metadata": {},
   "outputs": [
    {
     "name": "stdout",
     "output_type": "stream",
     "text": [
      "5b0f392031b3522887252ad1\n"
     ]
    }
   ],
   "source": [
    "lucas = db.users.find_one({\"email\":\"lucasabbade@hotmail.com\"})\n",
    "lucas_id = lucas['_id']\n",
    "print(lucas_id)"
   ]
  },
  {
   "cell_type": "code",
   "execution_count": 48,
   "metadata": {
    "collapsed": true
   },
   "outputs": [],
   "source": [
    "course_id = add_course(make_course(\"MongoDB Basics\", \"Introductory MongoDB\", lucas_id, \n",
    "                                   {\"category\":\"banco de dados\", \"sub_category\":\"mongodb\"},\n",
    "                                   \"basic\"))"
   ]
  },
  {
   "cell_type": "code",
   "execution_count": 26,
   "metadata": {
    "collapsed": true
   },
   "outputs": [],
   "source": [
    "pink = make_user(\"pink\", \"b123\", \"pink@gmail.com\")"
   ]
  },
  {
   "cell_type": "code",
   "execution_count": 27,
   "metadata": {},
   "outputs": [
    {
     "data": {
      "text/plain": [
       "{'courses': [], 'email': 'pink@gmail.com', 'name': 'pink', 'password': 'b123'}"
      ]
     },
     "execution_count": 27,
     "metadata": {},
     "output_type": "execute_result"
    }
   ],
   "source": [
    "pink"
   ]
  },
  {
   "cell_type": "code",
   "execution_count": 30,
   "metadata": {
    "collapsed": true
   },
   "outputs": [],
   "source": [
    "pink_id = add_user(pink)"
   ]
  },
  {
   "cell_type": "code",
   "execution_count": 31,
   "metadata": {},
   "outputs": [
    {
     "data": {
      "text/plain": [
       "ObjectId('5b1f17af31b3525df1082a63')"
      ]
     },
     "execution_count": 31,
     "metadata": {},
     "output_type": "execute_result"
    }
   ],
   "source": [
    "pink_id"
   ]
  },
  {
   "cell_type": "code",
   "execution_count": 35,
   "metadata": {
    "collapsed": true
   },
   "outputs": [],
   "source": [
    "course = db.courses.find_one({\"name\" : \"MongoDB Basics\"})"
   ]
  },
  {
   "cell_type": "code",
   "execution_count": 37,
   "metadata": {
    "collapsed": true
   },
   "outputs": [],
   "source": [
    "course_id = course['_id']"
   ]
  },
  {
   "cell_type": "code",
   "execution_count": 40,
   "metadata": {},
   "outputs": [
    {
     "data": {
      "text/plain": [
       "True"
      ]
     },
     "execution_count": 40,
     "metadata": {},
     "output_type": "execute_result"
    }
   ],
   "source": [
    "add_course_to_user(pink_id, course_id)"
   ]
  },
  {
   "cell_type": "code",
   "execution_count": 53,
   "metadata": {},
   "outputs": [
    {
     "data": {
      "text/plain": [
       "True"
      ]
     },
     "execution_count": 53,
     "metadata": {},
     "output_type": "execute_result"
    }
   ],
   "source": [
    "add_class_to_course(course_id, make_class(\"Introduction\", \"Course presentation\", 5, \n",
    "                                          \"https://www.youtube.com/watch?v=9OPP_1eAENg\"))"
   ]
  },
  {
   "cell_type": "code",
   "execution_count": 54,
   "metadata": {},
   "outputs": [
    {
     "name": "stdout",
     "output_type": "stream",
     "text": [
      "5b11681c31b35202d4c8ef59\n"
     ]
    }
   ],
   "source": [
    "maria = db.users.find_one({\"email\":\"maria.jose@gmail.com\"})\n",
    "maria_id = maria['_id']\n",
    "print(maria_id)"
   ]
  },
  {
   "cell_type": "code",
   "execution_count": 56,
   "metadata": {},
   "outputs": [
    {
     "data": {
      "text/plain": [
       "True"
      ]
     },
     "execution_count": 56,
     "metadata": {},
     "output_type": "execute_result"
    }
   ],
   "source": [
    "add_course_to_user(maria_id, course_id)"
   ]
  },
  {
   "cell_type": "code",
   "execution_count": 82,
   "metadata": {},
   "outputs": [
    {
     "data": {
      "text/plain": [
       "ObjectId('5b11693e31b35202d4c8ef5a')"
      ]
     },
     "execution_count": 82,
     "metadata": {},
     "output_type": "execute_result"
    }
   ],
   "source": [
    "python_course = db.courses.find_one({\"name\":\"Python 101\"})\n",
    "python_course_id = python_course['_id']\n",
    "python_course_id"
   ]
  },
  {
   "cell_type": "code",
   "execution_count": 83,
   "metadata": {},
   "outputs": [
    {
     "data": {
      "text/plain": [
       "True"
      ]
     },
     "execution_count": 83,
     "metadata": {},
     "output_type": "execute_result"
    }
   ],
   "source": [
    "add_course_to_user(maria_id, python_course_id)"
   ]
  },
  {
   "cell_type": "code",
   "execution_count": 54,
   "metadata": {
    "collapsed": true
   },
   "outputs": [],
   "source": [
    "usr_id = add_user(make_user(\"Gustavo\",\"12234\",\"gustahrc@hotmail.com\"))"
   ]
  },
  {
   "cell_type": "code",
   "execution_count": 56,
   "metadata": {},
   "outputs": [
    {
     "data": {
      "text/plain": [
       "ObjectId('5b1f1e2e31b3525df1082a65')"
      ]
     },
     "execution_count": 56,
     "metadata": {},
     "output_type": "execute_result"
    }
   ],
   "source": [
    "usr_id"
   ]
  },
  {
   "cell_type": "code",
   "execution_count": 72,
   "metadata": {},
   "outputs": [
    {
     "data": {
      "text/plain": [
       "True"
      ]
     },
     "execution_count": 72,
     "metadata": {},
     "output_type": "execute_result"
    }
   ],
   "source": [
    "add_course_to_user(usr_id, add_course(make_course(\"Nome teste\",\"Aprenda como ser um mandraque\",\n",
    "                                                  usr_id, make_category(\"Software\",\"Python\"),\n",
    "                                                  \"Hard\",[\"Python basico\"])))"
   ]
  },
  {
   "cell_type": "markdown",
   "metadata": {},
   "source": [
    "## Visualizando os cursos dos instrutores:"
   ]
  },
  {
   "cell_type": "code",
   "execution_count": 52,
   "metadata": {
    "collapsed": true
   },
   "outputs": [],
   "source": [
    "def see_instructor_courses(instructor = None):\n",
    "    lookup = {\n",
    "        \"$lookup\" : {\n",
    "            \"from\" : \"courses\",\n",
    "            \"localField\" : \"_id\",\n",
    "            \"foreignField\" : \"instructor_id\",\n",
    "            \"as\" : \"instructor_courses\"\n",
    "        }\n",
    "    }\n",
    "    \n",
    "    project = {\n",
    "        \"$project\" : {\n",
    "            \"total_courses\" : {\n",
    "                \"$size\" : \"$instructor_courses\"\n",
    "            },\n",
    "            \"email\" : 1,\n",
    "            \"name\" : 1,\n",
    "            \"instructor_courses\" : 1\n",
    "        }\n",
    "    }\n",
    "    \n",
    "    if isinstance(instructor, ObjectId):\n",
    "        match = {\n",
    "            \"$match\" : {\n",
    "                \"_id\" : instructor\n",
    "            }\n",
    "        }\n",
    "    elif isinstance(instructor, str):\n",
    "        match = {\n",
    "            \"$match\" : {\n",
    "                \"email\" : instructor \n",
    "            }\n",
    "        }\n",
    "    else:\n",
    "        match = {\n",
    "            \"$match\" : {\n",
    "                \"total_courses\" : {\n",
    "                    \"$gt\" : 0\n",
    "                }\n",
    "            }\n",
    "        }\n",
    "    \n",
    "    pipeline = [lookup, project, match]\n",
    "\n",
    "    return list(db.users.aggregate(pipeline))"
   ]
  },
  {
   "cell_type": "code",
   "execution_count": 70,
   "metadata": {},
   "outputs": [
    {
     "name": "stdout",
     "output_type": "stream",
     "text": [
      "[{'_id': ObjectId('5b0f392031b3522887252ad1'),\n",
      "  'email': 'lucasabbade@hotmail.com',\n",
      "  'instructor_courses': [{'_id': ObjectId('5b11693e31b35202d4c8ef5a'),\n",
      "                          'category': {'category': 'software',\n",
      "                                       'sub_category': 'python'},\n",
      "                          'classes': [],\n",
      "                          'description': 'Introductory Python',\n",
      "                          'image_src': None,\n",
      "                          'instructor_id': ObjectId('5b0f392031b3522887252ad1'),\n",
      "                          'level': 'basic',\n",
      "                          'name': 'Python 101',\n",
      "                          'requisites': []},\n",
      "                         {'_id': ObjectId('5b1169eb31b35202d4c8ef5c'),\n",
      "                          'category': {'category': 'banco de dados',\n",
      "                                       'sub_category': 'mongodb'},\n",
      "                          'classes': [{'description': 'Course presentation',\n",
      "                                       'duration': 5,\n",
      "                                       'name': 'Introduction',\n",
      "                                       'url': 'https://www.youtube.com/watch?v=9OPP_1eAENg'}],\n",
      "                          'description': 'Introductory MongoDB',\n",
      "                          'image_src': None,\n",
      "                          'instructor_id': ObjectId('5b0f392031b3522887252ad1'),\n",
      "                          'level': 'basic',\n",
      "                          'name': 'MongoDB Basics',\n",
      "                          'requisites': []}],\n",
      "  'name': 'lucas',\n",
      "  'total_courses': 2}]\n"
     ]
    }
   ],
   "source": [
    "pprint(see_instructor_courses())"
   ]
  },
  {
   "cell_type": "code",
   "execution_count": 71,
   "metadata": {},
   "outputs": [
    {
     "name": "stdout",
     "output_type": "stream",
     "text": [
      "[{'_id': ObjectId('5b11681c31b35202d4c8ef59'),\n",
      "  'email': 'maria.jose@gmail.com',\n",
      "  'instructor_courses': [],\n",
      "  'name': 'maria',\n",
      "  'total_courses': 0}]\n"
     ]
    }
   ],
   "source": [
    "pprint(see_instructor_courses(\"maria.jose@gmail.com\"))"
   ]
  },
  {
   "cell_type": "code",
   "execution_count": 72,
   "metadata": {},
   "outputs": [
    {
     "name": "stdout",
     "output_type": "stream",
     "text": [
      "[{'_id': ObjectId('5b11681c31b35202d4c8ef59'),\n",
      "  'email': 'maria.jose@gmail.com',\n",
      "  'instructor_courses': [],\n",
      "  'name': 'maria',\n",
      "  'total_courses': 0}]\n"
     ]
    }
   ],
   "source": [
    "pprint(see_instructor_courses(maria_id))"
   ]
  },
  {
   "cell_type": "code",
   "execution_count": 73,
   "metadata": {},
   "outputs": [
    {
     "name": "stdout",
     "output_type": "stream",
     "text": [
      "[{'_id': ObjectId('5b0f392031b3522887252ad1'),\n",
      "  'email': 'lucasabbade@hotmail.com',\n",
      "  'instructor_courses': [{'_id': ObjectId('5b11693e31b35202d4c8ef5a'),\n",
      "                          'category': {'category': 'software',\n",
      "                                       'sub_category': 'python'},\n",
      "                          'classes': [],\n",
      "                          'description': 'Introductory Python',\n",
      "                          'image_src': None,\n",
      "                          'instructor_id': ObjectId('5b0f392031b3522887252ad1'),\n",
      "                          'level': 'basic',\n",
      "                          'name': 'Python 101',\n",
      "                          'requisites': []},\n",
      "                         {'_id': ObjectId('5b1169eb31b35202d4c8ef5c'),\n",
      "                          'category': {'category': 'banco de dados',\n",
      "                                       'sub_category': 'mongodb'},\n",
      "                          'classes': [{'description': 'Course presentation',\n",
      "                                       'duration': 5,\n",
      "                                       'name': 'Introduction',\n",
      "                                       'url': 'https://www.youtube.com/watch?v=9OPP_1eAENg'}],\n",
      "                          'description': 'Introductory MongoDB',\n",
      "                          'image_src': None,\n",
      "                          'instructor_id': ObjectId('5b0f392031b3522887252ad1'),\n",
      "                          'level': 'basic',\n",
      "                          'name': 'MongoDB Basics',\n",
      "                          'requisites': []}],\n",
      "  'name': 'lucas',\n",
      "  'total_courses': 2}]\n"
     ]
    }
   ],
   "source": [
    "pprint(see_instructor_courses(lucas_id))"
   ]
  },
  {
   "cell_type": "markdown",
   "metadata": {},
   "source": [
    "## Visualizando os cursos de um aluno:"
   ]
  },
  {
   "cell_type": "code",
   "execution_count": 53,
   "metadata": {
    "collapsed": true
   },
   "outputs": [],
   "source": [
    "def see_user_courses(user = None):\n",
    "    unwind = {\n",
    "        \"$unwind\" : \"$courses\"\n",
    "    }\n",
    "    \n",
    "    lookup = {\n",
    "        \"$lookup\" : {\n",
    "            \"from\" : \"courses\",\n",
    "            \"localField\" : \"courses\",\n",
    "            \"foreignField\" : \"_id\",\n",
    "            \"as\" : \"course\"\n",
    "        }\n",
    "    }\n",
    "    \n",
    "    project = {\n",
    "        \"$project\" : {\n",
    "            \"course\" : 1,\n",
    "            \"email\" : 1,\n",
    "            \"name\" : 1\n",
    "        }\n",
    "    }\n",
    "    \n",
    "    if isinstance(user, ObjectId):\n",
    "        match = {\n",
    "            \"$match\" : {\n",
    "                \"_id\" : user\n",
    "            }\n",
    "        }\n",
    "    elif isinstance(user, str):\n",
    "        match = {\n",
    "            \"$match\" : {\n",
    "                \"email\" : user \n",
    "            }\n",
    "        }\n",
    "    else:\n",
    "        raise TypeError(\"user should be either a string or an ObjectId\")\n",
    "    \n",
    "    pipeline = [unwind, lookup, project, match]\n",
    "\n",
    "    return list(db.users.aggregate(pipeline))"
   ]
  },
  {
   "cell_type": "code",
   "execution_count": 86,
   "metadata": {},
   "outputs": [
    {
     "name": "stdout",
     "output_type": "stream",
     "text": [
      "[{'_id': ObjectId('5b11681c31b35202d4c8ef59'),\n",
      "  'course': [{'_id': ObjectId('5b1169eb31b35202d4c8ef5c'),\n",
      "              'category': {'category': 'banco de dados',\n",
      "                           'sub_category': 'mongodb'},\n",
      "              'classes': [{'description': 'Course presentation',\n",
      "                           'duration': 5,\n",
      "                           'name': 'Introduction',\n",
      "                           'url': 'https://www.youtube.com/watch?v=9OPP_1eAENg'}],\n",
      "              'description': 'Introductory MongoDB',\n",
      "              'image_src': None,\n",
      "              'instructor_id': ObjectId('5b0f392031b3522887252ad1'),\n",
      "              'level': 'basic',\n",
      "              'name': 'MongoDB Basics',\n",
      "              'requisites': []}],\n",
      "  'email': 'maria.jose@gmail.com',\n",
      "  'name': 'maria'},\n",
      " {'_id': ObjectId('5b11681c31b35202d4c8ef59'),\n",
      "  'course': [{'_id': ObjectId('5b11693e31b35202d4c8ef5a'),\n",
      "              'category': {'category': 'software', 'sub_category': 'python'},\n",
      "              'classes': [],\n",
      "              'description': 'Introductory Python',\n",
      "              'image_src': None,\n",
      "              'instructor_id': ObjectId('5b0f392031b3522887252ad1'),\n",
      "              'level': 'basic',\n",
      "              'name': 'Python 101',\n",
      "              'requisites': []}],\n",
      "  'email': 'maria.jose@gmail.com',\n",
      "  'name': 'maria'}]\n"
     ]
    }
   ],
   "source": [
    "pprint(see_user_courses(\"maria.jose@gmail.com\"))"
   ]
  }
 ],
 "metadata": {
  "kernelspec": {
   "display_name": "Python 3",
   "language": "python",
   "name": "python3"
  },
  "language_info": {
   "codemirror_mode": {
    "name": "ipython",
    "version": 3
   },
   "file_extension": ".py",
   "mimetype": "text/x-python",
   "name": "python",
   "nbconvert_exporter": "python",
   "pygments_lexer": "ipython3",
   "version": "3.6.3"
  }
 },
 "nbformat": 4,
 "nbformat_minor": 2
}
