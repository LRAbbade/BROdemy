{
 "cells": [
  {
   "cell_type": "markdown",
   "metadata": {},
   "source": [
    "# Código de gerenciamento do DB"
   ]
  },
  {
   "cell_type": "code",
   "execution_count": 50,
   "metadata": {
    "collapsed": true
   },
   "outputs": [],
   "source": [
    "import pymongo\n",
    "from pymongo import MongoClient\n",
    "from pprint import pprint\n",
    "from bson.objectid import ObjectId\n",
    "from connection_uri import uri"
   ]
  },
  {
   "cell_type": "code",
   "execution_count": 51,
   "metadata": {
    "collapsed": true
   },
   "outputs": [],
   "source": [
    "client = MongoClient(uri)\n",
    "db = client.brodemy"
   ]
  },
  {
   "cell_type": "markdown",
   "metadata": {},
   "source": [
    "### Checar se o número de aula já está cadastrado no curso"
   ]
  },
  {
   "cell_type": "code",
   "execution_count": 52,
   "metadata": {
    "collapsed": true
   },
   "outputs": [],
   "source": [
    "def check_if_class_number_is_in_course(course_id, class_number):\n",
    "    match1 = {\n",
    "        \"$match\" : {\n",
    "            \"_id\" : course_id\n",
    "        }\n",
    "    }\n",
    "    \n",
    "    unwind = {\n",
    "        \"$unwind\" : \"$classes\" \n",
    "    }\n",
    "    \n",
    "    project = {\n",
    "        \"$project\" : {\n",
    "            \"class_number\" : \"$classes.number\"\n",
    "        }\n",
    "    }\n",
    "    \n",
    "    match2 = {\n",
    "        \"$match\" : {\n",
    "            \"class_number\" : class_number\n",
    "        }\n",
    "    }\n",
    "    \n",
    "    pipeline = [match1, unwind, project, match2]\n",
    "    return list(db.courses.aggregate(pipeline))"
   ]
  },
  {
   "cell_type": "code",
   "execution_count": 43,
   "metadata": {},
   "outputs": [
    {
     "data": {
      "text/plain": [
       "[{'_id': ObjectId('5b1169eb31b35202d4c8ef5c'),\n",
       "  'category': {'category': 'banco de dados', 'sub_category': 'mongodb'},\n",
       "  'classes': [{'description': '',\n",
       "    'duration': 5,\n",
       "    'name': 'introducao',\n",
       "    'number': 1,\n",
       "    'url': 'sdiu123oa'},\n",
       "   {'description': '',\n",
       "    'duration': 2,\n",
       "    'name': 'math',\n",
       "    'number': 2,\n",
       "    'url': 'ui21h3'},\n",
       "   {'description': '',\n",
       "    'duration': 10,\n",
       "    'name': 'arithmetics',\n",
       "    'number': 3,\n",
       "    'url': 'endjf389jxe'}],\n",
       "  'description': 'Introductory MongoDB',\n",
       "  'image_src': None,\n",
       "  'instructor_id': ObjectId('5b0f392031b3522887252ad1'),\n",
       "  'level': 'basic',\n",
       "  'name': 'MongoDB Basics',\n",
       "  'requisites': []}]"
      ]
     },
     "execution_count": 43,
     "metadata": {},
     "output_type": "execute_result"
    }
   ],
   "source": [
    "search_course_by_partial_name(\"mongo\")"
   ]
  },
  {
   "cell_type": "code",
   "execution_count": 48,
   "metadata": {},
   "outputs": [
    {
     "data": {
      "text/plain": [
       "[{'_id': ObjectId('5b1169eb31b35202d4c8ef5c'), 'class_number': 2}]"
      ]
     },
     "execution_count": 48,
     "metadata": {},
     "output_type": "execute_result"
    }
   ],
   "source": [
    "check_if_class_number_is_in_course(mongo_course_id, 2)"
   ]
  },
  {
   "cell_type": "code",
   "execution_count": 49,
   "metadata": {},
   "outputs": [
    {
     "data": {
      "text/plain": [
       "[]"
      ]
     },
     "execution_count": 49,
     "metadata": {},
     "output_type": "execute_result"
    }
   ],
   "source": [
    "check_if_class_number_is_in_course(mongo_course_id, 4)"
   ]
  },
  {
   "cell_type": "markdown",
   "metadata": {},
   "source": [
    "### Remover uma aula de um curso"
   ]
  },
  {
   "cell_type": "code",
   "execution_count": 53,
   "metadata": {
    "collapsed": true
   },
   "outputs": [],
   "source": [
    "# remove a class from a course by its ID, returns 1 if class is found, if not, 0\n",
    "def remove_class_from_course(course_id, class_number):\n",
    "    query = {\n",
    "        \"_id\" : course_id\n",
    "    }\n",
    "    \n",
    "    update = {\n",
    "        \"$pull\" : {\n",
    "            \"classes\" : {\n",
    "                \"number\" : class_number\n",
    "            }\n",
    "        }\n",
    "    }\n",
    "    \n",
    "    r = db.courses.update_one(query, update)\n",
    "    return r.modified_count"
   ]
  },
  {
   "cell_type": "code",
   "execution_count": 29,
   "metadata": {},
   "outputs": [
    {
     "data": {
      "text/plain": [
       "1"
      ]
     },
     "execution_count": 29,
     "metadata": {},
     "output_type": "execute_result"
    }
   ],
   "source": [
    "remove_class_from_course(mongo_course_id, 1)"
   ]
  },
  {
   "cell_type": "code",
   "execution_count": 30,
   "metadata": {},
   "outputs": [
    {
     "data": {
      "text/plain": [
       "{'_id': ObjectId('5b1169eb31b35202d4c8ef5c'),\n",
       " 'category': {'category': 'banco de dados', 'sub_category': 'mongodb'},\n",
       " 'classes': [],\n",
       " 'description': 'Introductory MongoDB',\n",
       " 'image_src': None,\n",
       " 'instructor_id': ObjectId('5b0f392031b3522887252ad1'),\n",
       " 'level': 'basic',\n",
       " 'name': 'MongoDB Basics',\n",
       " 'requisites': []}"
      ]
     },
     "execution_count": 30,
     "metadata": {},
     "output_type": "execute_result"
    }
   ],
   "source": [
    "db.courses.find_one({\"name\":{\"$regex\":\"mongodb\", \"$options\":\"i\"}})"
   ]
  },
  {
   "cell_type": "code",
   "execution_count": 72,
   "metadata": {},
   "outputs": [
    {
     "name": "stdout",
     "output_type": "stream",
     "text": [
      "{'_id': ObjectId('5b1169eb31b35202d4c8ef5c'),\n",
      " 'category': {'category': 'banco de dados', 'sub_category': 'mongodb'},\n",
      " 'classes': [{'description': '',\n",
      "              'duration': 5,\n",
      "              'name': 'introducao',\n",
      "              'number': 1,\n",
      "              'url': 'sdiu123oa'},\n",
      "             {'description': '',\n",
      "              'duration': 2,\n",
      "              'name': 'math',\n",
      "              'number': 2,\n",
      "              'url': 'ui21h3'},\n",
      "             {'description': '',\n",
      "              'duration': 10,\n",
      "              'name': 'arithmetics',\n",
      "              'number': 3,\n",
      "              'url': 'endjf389jxe'}],\n",
      " 'description': 'Introductory MongoDB',\n",
      " 'image_src': None,\n",
      " 'instructor_id': ObjectId('5b0f392031b3522887252ad1'),\n",
      " 'level': 'basic',\n",
      " 'name': 'MongoDB Basics',\n",
      " 'requisites': []}\n"
     ]
    }
   ],
   "source": [
    "mongo_course = db.courses.find_one({\"name\":\"MongoDB Basics\"})\n",
    "pprint(mongo_course)"
   ]
  },
  {
   "cell_type": "code",
   "execution_count": 73,
   "metadata": {},
   "outputs": [
    {
     "data": {
      "text/plain": [
       "ObjectId('5b1169eb31b35202d4c8ef5c')"
      ]
     },
     "execution_count": 73,
     "metadata": {},
     "output_type": "execute_result"
    }
   ],
   "source": [
    "mongo_course_id = mongo_course['_id']\n",
    "mongo_course_id"
   ]
  },
  {
   "cell_type": "code",
   "execution_count": 8,
   "metadata": {},
   "outputs": [
    {
     "name": "stdout",
     "output_type": "stream",
     "text": [
      "{'_id': ObjectId('5b11681c31b35202d4c8ef59'),\n",
      " 'courses': [ObjectId('5b1169eb31b35202d4c8ef5c'),\n",
      "             ObjectId('5b11693e31b35202d4c8ef5a')],\n",
      " 'email': 'maria.jose@gmail.com',\n",
      " 'name': 'maria',\n",
      " 'password': 'jose'}\n"
     ]
    }
   ],
   "source": [
    "maria = db.users.find_one({\"email\":\"maria.jose@gmail.com\"})\n",
    "pprint(maria)"
   ]
  },
  {
   "cell_type": "code",
   "execution_count": 9,
   "metadata": {},
   "outputs": [
    {
     "data": {
      "text/plain": [
       "ObjectId('5b11681c31b35202d4c8ef59')"
      ]
     },
     "execution_count": 9,
     "metadata": {},
     "output_type": "execute_result"
    }
   ],
   "source": [
    "maria_id = maria['_id']\n",
    "maria_id"
   ]
  },
  {
   "cell_type": "markdown",
   "metadata": {},
   "source": [
    "### Checar se o usuário é inscrito no curso"
   ]
  },
  {
   "cell_type": "code",
   "execution_count": 54,
   "metadata": {},
   "outputs": [],
   "source": [
    "def check_if_user_has_course(user_id, course_id):\n",
    "    match = {\n",
    "        \"$match\" : {\n",
    "            \"_id\" : user_id\n",
    "        }\n",
    "    }\n",
    "    \n",
    "    project = {\n",
    "        \"$project\" : {\n",
    "            \"has_course\" : {\n",
    "                \"$in\" : [\n",
    "                    course_id, \n",
    "                    \"$courses\"\n",
    "                ]\n",
    "            }\n",
    "        }\n",
    "    }\n",
    "    \n",
    "    match2 = {\n",
    "        \"$match\" : {\n",
    "            \"has_course\" : True\n",
    "        }\n",
    "    }\n",
    "    \n",
    "    pipeline = [match, project, match2]\n",
    "    \n",
    "    return list(db.users.aggregate(pipeline))"
   ]
  },
  {
   "cell_type": "code",
   "execution_count": 16,
   "metadata": {},
   "outputs": [
    {
     "data": {
      "text/plain": [
       "[{'_id': ObjectId('5b11681c31b35202d4c8ef59'), 'has_course': True}]"
      ]
     },
     "execution_count": 16,
     "metadata": {},
     "output_type": "execute_result"
    }
   ],
   "source": [
    "check_if_user_has_course(maria_id, mongo_course_id)"
   ]
  },
  {
   "cell_type": "markdown",
   "metadata": {},
   "source": [
    "### Buscar curso por regex"
   ]
  },
  {
   "cell_type": "code",
   "execution_count": 55,
   "metadata": {
    "collapsed": true
   },
   "outputs": [],
   "source": [
    "def search_course_by_partial_name(name):\n",
    "    query = {\n",
    "        \"name\" : {\n",
    "            \"$regex\" : name,\n",
    "            \"$options\" : \"i\"\n",
    "        }\n",
    "    }\n",
    "    \n",
    "    return list(db.courses.find(query))"
   ]
  },
  {
   "cell_type": "code",
   "execution_count": 18,
   "metadata": {},
   "outputs": [
    {
     "data": {
      "text/plain": [
       "[{'_id': ObjectId('5b11693e31b35202d4c8ef5a'),\n",
       "  'category': {'category': 'software', 'sub_category': 'python'},\n",
       "  'classes': [],\n",
       "  'description': 'Introductory Python',\n",
       "  'image_src': None,\n",
       "  'instructor_id': ObjectId('5b0f392031b3522887252ad1'),\n",
       "  'level': 'basic',\n",
       "  'name': 'Python 101',\n",
       "  'requisites': []}]"
      ]
     },
     "execution_count": 18,
     "metadata": {},
     "output_type": "execute_result"
    }
   ],
   "source": [
    "search_course_by_partial_name(\"python\")"
   ]
  },
  {
   "cell_type": "markdown",
   "metadata": {},
   "source": [
    "### Criar uma categoria"
   ]
  },
  {
   "cell_type": "code",
   "execution_count": 56,
   "metadata": {
    "collapsed": true
   },
   "outputs": [],
   "source": [
    "def create_category(name):\n",
    "    document = {\n",
    "        \"category\" : name,\n",
    "        \"subs\" : []\n",
    "    }\n",
    "    \n",
    "    r = db.categories.insert_one(document)\n",
    "    return r.inserted_id"
   ]
  },
  {
   "cell_type": "code",
   "execution_count": 6,
   "metadata": {},
   "outputs": [
    {
     "data": {
      "text/plain": [
       "ObjectId('5b1f01f231b3525df1082a61')"
      ]
     },
     "execution_count": 6,
     "metadata": {},
     "output_type": "execute_result"
    }
   ],
   "source": [
    "create_category(\"Teste\")"
   ]
  },
  {
   "cell_type": "markdown",
   "metadata": {},
   "source": [
    "### Adicionar uma sub-categoria à categoria"
   ]
  },
  {
   "cell_type": "code",
   "execution_count": 57,
   "metadata": {
    "collapsed": true
   },
   "outputs": [],
   "source": [
    "def add_sub_category(category, sub_category):\n",
    "    if not isinstance(sub_category, str):\n",
    "        raise TypeError(\"Sub-category should be a string\")\n",
    "        \n",
    "    update = {\n",
    "        \"$push\" : {\n",
    "            \"subs\" : sub_category\n",
    "        }\n",
    "    }\n",
    "    \n",
    "    r = db.categories.update_one({\"category\" : category}, update)\n",
    "    return r.acknowledged"
   ]
  },
  {
   "cell_type": "code",
   "execution_count": 4,
   "metadata": {},
   "outputs": [
    {
     "data": {
      "text/plain": [
       "True"
      ]
     },
     "execution_count": 4,
     "metadata": {},
     "output_type": "execute_result"
    }
   ],
   "source": [
    "add_sub_category(\"Software\", \"Prolog\")"
   ]
  },
  {
   "cell_type": "markdown",
   "metadata": {},
   "source": [
    "### Descobrir a categoria a qual uma sub-categoria pertence"
   ]
  },
  {
   "cell_type": "code",
   "execution_count": 58,
   "metadata": {
    "collapsed": true
   },
   "outputs": [],
   "source": [
    "def get_category_by_sub(sub_name):\n",
    "    project = {\n",
    "        \"$project\" : {\n",
    "            \"category\" : 1,\n",
    "            \"has_sub\" : {\n",
    "                \"$in\" : [\n",
    "                    sub_name, \"$subs\"\n",
    "                ]\n",
    "            }\n",
    "        }\n",
    "    }\n",
    "    \n",
    "    match = {\n",
    "        \"$match\" : {\n",
    "            \"has_sub\" : True\n",
    "        }\n",
    "    }\n",
    "    \n",
    "    pipeline = [project, match]\n",
    "    r = list(db.categories.aggregate(pipeline))\n",
    "    r = [i['category'] for i in r]\n",
    "    \n",
    "    if len(r) != 1:\n",
    "        print(\"Multiple categories returned true\")\n",
    "    else:\n",
    "        r = r[0]\n",
    "        \n",
    "    return r"
   ]
  },
  {
   "cell_type": "code",
   "execution_count": 24,
   "metadata": {},
   "outputs": [
    {
     "data": {
      "text/plain": [
       "'Software'"
      ]
     },
     "execution_count": 24,
     "metadata": {},
     "output_type": "execute_result"
    }
   ],
   "source": [
    "get_category_by_sub(\"Javascript\")"
   ]
  },
  {
   "cell_type": "markdown",
   "metadata": {},
   "source": [
    "### Criar um documento de usuário"
   ]
  },
  {
   "cell_type": "code",
   "execution_count": 59,
   "metadata": {
    "collapsed": true
   },
   "outputs": [],
   "source": [
    "def make_user(name, password, email):\n",
    "    user = {\n",
    "        \"name\" : name,\n",
    "        \"password\" : password,\n",
    "        \"email\" : email,\n",
    "        \"courses\" : []\n",
    "    }\n",
    "    \n",
    "    return user"
   ]
  },
  {
   "cell_type": "markdown",
   "metadata": {},
   "source": [
    "### Criar um documento de curso"
   ]
  },
  {
   "cell_type": "code",
   "execution_count": 60,
   "metadata": {
    "collapsed": true
   },
   "outputs": [],
   "source": [
    "def make_course(name, description, instructor_id, category, level, requisites = [], image_src = None):\n",
    "    if not isinstance(requisites, list):\n",
    "        raise TypeError('requisites should be a list')\n",
    "    if not isinstance(instructor_id, ObjectId):\n",
    "        raise TypeError('instructor_id should be an ObjectId')\n",
    "    if not isinstance(category, dict):\n",
    "        raise TypeError('category should be a dict')\n",
    "        \n",
    "    course = {\n",
    "        \"name\" : name, \n",
    "        \"description\" : description,\n",
    "        \"requisites\" : requisites,\n",
    "        \"level\" : level,\n",
    "        \"image_src\" : image_src,\n",
    "        \"instructor_id\" : instructor_id,\n",
    "        \"category\" : category,\n",
    "        \"classes\" : []\n",
    "    }\n",
    "    \n",
    "    return course"
   ]
  },
  {
   "cell_type": "markdown",
   "metadata": {},
   "source": [
    "### Criar um documento de categoria"
   ]
  },
  {
   "cell_type": "code",
   "execution_count": 61,
   "metadata": {
    "collapsed": true
   },
   "outputs": [],
   "source": [
    "def make_category(category, sub_category):\n",
    "    category_doc =  { \n",
    "        \"category\" : category,\n",
    "        \"sub_category\" : sub_category\n",
    "    }\n",
    "    \n",
    "    return category_doc"
   ]
  },
  {
   "cell_type": "markdown",
   "metadata": {},
   "source": [
    "### Criar um documento de aula"
   ]
  },
  {
   "cell_type": "code",
   "execution_count": 62,
   "metadata": {
    "collapsed": true
   },
   "outputs": [],
   "source": [
    "def make_class(number, name, description, duration, url):\n",
    "    aula = {\n",
    "        \"number\" : number,\n",
    "        \"name\" : name,\n",
    "        \"description\" : description,\n",
    "        \"duration\" : duration,\n",
    "        \"url\" : url\n",
    "    }\n",
    "    \n",
    "    return aula"
   ]
  },
  {
   "cell_type": "markdown",
   "metadata": {},
   "source": [
    "## Adicionar uma aula ao curso"
   ]
  },
  {
   "cell_type": "code",
   "execution_count": 63,
   "metadata": {
    "collapsed": true
   },
   "outputs": [],
   "source": [
    "def add_class_to_course(course, aula):\n",
    "    if not isinstance(aula, dict):\n",
    "        raise TypeError('aula should be a dict')\n",
    "    if not isinstance(course, ObjectId):\n",
    "        raise TypeError('course should be the ObjectId of the course')\n",
    "        \n",
    "    query = {\n",
    "        \"_id\" : course\n",
    "    }\n",
    "    \n",
    "    update = {\n",
    "        \"$push\" : {\n",
    "            \"classes\" : aula\n",
    "        }\n",
    "    }\n",
    "    \n",
    "    r = db.courses.update_one(query, update)\n",
    "    return r.acknowledged"
   ]
  },
  {
   "cell_type": "code",
   "execution_count": 41,
   "metadata": {},
   "outputs": [
    {
     "data": {
      "text/plain": [
       "True"
      ]
     },
     "execution_count": 41,
     "metadata": {},
     "output_type": "execute_result"
    }
   ],
   "source": [
    "add_class_to_course(mongo_course_id, make_class(3, \"arithmetics\", \"\", 10, \"endjf389jxe\"))"
   ]
  },
  {
   "cell_type": "markdown",
   "metadata": {},
   "source": [
    "## Adicionar o curso ao usuário"
   ]
  },
  {
   "cell_type": "code",
   "execution_count": 64,
   "metadata": {
    "collapsed": true
   },
   "outputs": [],
   "source": [
    "def add_course_to_user(user, course):\n",
    "    if not isinstance(course, ObjectId):\n",
    "        raise TypeError('course should be the ObjectId of the course')\n",
    "    if not isinstance(user, ObjectId):\n",
    "        raise TypeError('user should be the ObjectId of the user')\n",
    "    \n",
    "    query = {\n",
    "        \"_id\" : user\n",
    "    }\n",
    "    \n",
    "    update = {\n",
    "        \"$push\" : {\n",
    "            \"courses\" : course\n",
    "        }\n",
    "    }\n",
    "    \n",
    "    r = db.users.update_one(query, update)\n",
    "    return r.acknowledged"
   ]
  },
  {
   "cell_type": "markdown",
   "metadata": {},
   "source": [
    "## Adicionar usuário"
   ]
  },
  {
   "cell_type": "code",
   "execution_count": 65,
   "metadata": {
    "collapsed": true
   },
   "outputs": [],
   "source": [
    "def add_user(user):\n",
    "    if not isinstance(user, dict):\n",
    "        raise TypeError('user should be a dict')\n",
    "        \n",
    "    r = db.users.insert_one(user)\n",
    "    return r.inserted_id"
   ]
  },
  {
   "cell_type": "markdown",
   "metadata": {},
   "source": [
    "## Adicionar curso"
   ]
  },
  {
   "cell_type": "code",
   "execution_count": 66,
   "metadata": {
    "collapsed": true
   },
   "outputs": [],
   "source": [
    "def add_course(course):\n",
    "    if not isinstance(course, dict):\n",
    "        raise TypeError('course should be a dict')\n",
    "        \n",
    "    r = db.courses.insert_one(course)\n",
    "    return r.inserted_id"
   ]
  },
  {
   "cell_type": "code",
   "execution_count": 43,
   "metadata": {},
   "outputs": [
    {
     "data": {
      "text/plain": [
       "ObjectId('5b11681c31b35202d4c8ef59')"
      ]
     },
     "execution_count": 43,
     "metadata": {},
     "output_type": "execute_result"
    }
   ],
   "source": [
    "add_user(make_user(\"maria\", \"jose\", \"maria.jose@gmail.com\"))"
   ]
  },
  {
   "cell_type": "code",
   "execution_count": 115,
   "metadata": {},
   "outputs": [
    {
     "name": "stdout",
     "output_type": "stream",
     "text": [
      "5b219a9f31b3527b09786d89\n"
     ]
    }
   ],
   "source": [
    "lucas_id = add_user(make_user(\"lucas\",\"l1234\",\"lucas@gmail.com\"))\n",
    "print(lucas_id)"
   ]
  },
  {
   "cell_type": "code",
   "execution_count": 116,
   "metadata": {
    "collapsed": true
   },
   "outputs": [],
   "source": [
    "course_id = add_course(make_course(\"MongoDB Basics\", \"Introductory MongoDB\", lucas_id, \n",
    "                                   {\"category\":\"banco de dados\", \"sub_category\":\"mongodb\"},\n",
    "                                   \"basic\"))"
   ]
  },
  {
   "cell_type": "code",
   "execution_count": 26,
   "metadata": {
    "collapsed": true
   },
   "outputs": [],
   "source": [
    "pink = make_user(\"pink\", \"b123\", \"pink@gmail.com\")"
   ]
  },
  {
   "cell_type": "code",
   "execution_count": 27,
   "metadata": {},
   "outputs": [
    {
     "data": {
      "text/plain": [
       "{'courses': [], 'email': 'pink@gmail.com', 'name': 'pink', 'password': 'b123'}"
      ]
     },
     "execution_count": 27,
     "metadata": {},
     "output_type": "execute_result"
    }
   ],
   "source": [
    "pink"
   ]
  },
  {
   "cell_type": "code",
   "execution_count": 30,
   "metadata": {
    "collapsed": true
   },
   "outputs": [],
   "source": [
    "pink_id = add_user(pink)"
   ]
  },
  {
   "cell_type": "code",
   "execution_count": 31,
   "metadata": {},
   "outputs": [
    {
     "data": {
      "text/plain": [
       "ObjectId('5b1f17af31b3525df1082a63')"
      ]
     },
     "execution_count": 31,
     "metadata": {},
     "output_type": "execute_result"
    }
   ],
   "source": [
    "pink_id"
   ]
  },
  {
   "cell_type": "code",
   "execution_count": 117,
   "metadata": {
    "collapsed": true
   },
   "outputs": [],
   "source": [
    "course = db.courses.find_one({\"name\" : \"MongoDB Basics\"})"
   ]
  },
  {
   "cell_type": "code",
   "execution_count": 118,
   "metadata": {
    "collapsed": true
   },
   "outputs": [],
   "source": [
    "course_id = course['_id']"
   ]
  },
  {
   "cell_type": "code",
   "execution_count": 80,
   "metadata": {},
   "outputs": [
    {
     "data": {
      "text/plain": [
       "[{'_id': ObjectId('5b0f392031b3522887252ad1')},\n",
       " {'_id': ObjectId('5b1167ee31b35202d4c8ef58')},\n",
       " {'_id': ObjectId('5b11681c31b35202d4c8ef59')},\n",
       " {'_id': ObjectId('5b1f17af31b3525df1082a63')},\n",
       " {'_id': ObjectId('5b1f1e2e31b3525df1082a65')}]"
      ]
     },
     "execution_count": 80,
     "metadata": {},
     "output_type": "execute_result"
    }
   ],
   "source": [
    "users = list(db.users.find({}, {\"_id\":1}))\n",
    "users"
   ]
  },
  {
   "cell_type": "code",
   "execution_count": 85,
   "metadata": {
    "collapsed": true
   },
   "outputs": [],
   "source": [
    "for user in users:\n",
    "    add_course_to_user(user['_id'], mongo_course_id)"
   ]
  },
  {
   "cell_type": "code",
   "execution_count": 86,
   "metadata": {},
   "outputs": [
    {
     "data": {
      "text/plain": [
       "[{'_id': ObjectId('5b0f392031b3522887252ad1'), 'has_course': True},\n",
       " {'_id': ObjectId('5b1167ee31b35202d4c8ef58'), 'has_course': True},\n",
       " {'_id': ObjectId('5b11681c31b35202d4c8ef59'), 'has_course': True},\n",
       " {'_id': ObjectId('5b1f17af31b3525df1082a63'), 'has_course': True},\n",
       " {'_id': ObjectId('5b1f1e2e31b3525df1082a65'), 'has_course': True}]"
      ]
     },
     "execution_count": 86,
     "metadata": {},
     "output_type": "execute_result"
    }
   ],
   "source": [
    "get_students_of_course(mongo_course_id)"
   ]
  },
  {
   "cell_type": "code",
   "execution_count": 40,
   "metadata": {},
   "outputs": [
    {
     "data": {
      "text/plain": [
       "True"
      ]
     },
     "execution_count": 40,
     "metadata": {},
     "output_type": "execute_result"
    }
   ],
   "source": [
    "add_course_to_user(pink_id, course_id)"
   ]
  },
  {
   "cell_type": "code",
   "execution_count": 53,
   "metadata": {},
   "outputs": [
    {
     "data": {
      "text/plain": [
       "True"
      ]
     },
     "execution_count": 53,
     "metadata": {},
     "output_type": "execute_result"
    }
   ],
   "source": [
    "add_class_to_course(course_id, make_class(\"Introduction\", \"Course presentation\", 5, \n",
    "                                          \"https://www.youtube.com/watch?v=9OPP_1eAENg\"))"
   ]
  },
  {
   "cell_type": "code",
   "execution_count": 54,
   "metadata": {},
   "outputs": [
    {
     "name": "stdout",
     "output_type": "stream",
     "text": [
      "5b11681c31b35202d4c8ef59\n"
     ]
    }
   ],
   "source": [
    "maria = db.users.find_one({\"email\":\"maria.jose@gmail.com\"})\n",
    "maria_id = maria['_id']\n",
    "print(maria_id)"
   ]
  },
  {
   "cell_type": "code",
   "execution_count": 56,
   "metadata": {},
   "outputs": [
    {
     "data": {
      "text/plain": [
       "True"
      ]
     },
     "execution_count": 56,
     "metadata": {},
     "output_type": "execute_result"
    }
   ],
   "source": [
    "add_course_to_user(maria_id, course_id)"
   ]
  },
  {
   "cell_type": "code",
   "execution_count": 82,
   "metadata": {},
   "outputs": [
    {
     "data": {
      "text/plain": [
       "ObjectId('5b11693e31b35202d4c8ef5a')"
      ]
     },
     "execution_count": 82,
     "metadata": {},
     "output_type": "execute_result"
    }
   ],
   "source": [
    "python_course = db.courses.find_one({\"name\":\"Python 101\"})\n",
    "python_course_id = python_course['_id']\n",
    "python_course_id"
   ]
  },
  {
   "cell_type": "code",
   "execution_count": 83,
   "metadata": {},
   "outputs": [
    {
     "data": {
      "text/plain": [
       "True"
      ]
     },
     "execution_count": 83,
     "metadata": {},
     "output_type": "execute_result"
    }
   ],
   "source": [
    "add_course_to_user(maria_id, python_course_id)"
   ]
  },
  {
   "cell_type": "code",
   "execution_count": 119,
   "metadata": {},
   "outputs": [
    {
     "ename": "DuplicateKeyError",
     "evalue": "E11000 duplicate key error collection: brodemy.users index: email_1 dup key: { : \"gustahrc@hotmail.com\" }",
     "output_type": "error",
     "traceback": [
      "\u001b[0;31m---------------------------------------------------------------------------\u001b[0m",
      "\u001b[0;31mDuplicateKeyError\u001b[0m                         Traceback (most recent call last)",
      "\u001b[0;32m<ipython-input-119-add8fb868889>\u001b[0m in \u001b[0;36m<module>\u001b[0;34m()\u001b[0m\n\u001b[0;32m----> 1\u001b[0;31m \u001b[0musr_id\u001b[0m \u001b[0;34m=\u001b[0m \u001b[0madd_user\u001b[0m\u001b[0;34m(\u001b[0m\u001b[0mmake_user\u001b[0m\u001b[0;34m(\u001b[0m\u001b[0;34m\"Gustavo\"\u001b[0m\u001b[0;34m,\u001b[0m\u001b[0;34m\"12234\"\u001b[0m\u001b[0;34m,\u001b[0m\u001b[0;34m\"gustahrc@hotmail.com\"\u001b[0m\u001b[0;34m)\u001b[0m\u001b[0;34m)\u001b[0m\u001b[0;34m\u001b[0m\u001b[0m\n\u001b[0m",
      "\u001b[0;32m<ipython-input-65-dbe301b01999>\u001b[0m in \u001b[0;36madd_user\u001b[0;34m(user)\u001b[0m\n\u001b[1;32m      3\u001b[0m         \u001b[0;32mraise\u001b[0m \u001b[0mTypeError\u001b[0m\u001b[0;34m(\u001b[0m\u001b[0;34m'user should be a dict'\u001b[0m\u001b[0;34m)\u001b[0m\u001b[0;34m\u001b[0m\u001b[0m\n\u001b[1;32m      4\u001b[0m \u001b[0;34m\u001b[0m\u001b[0m\n\u001b[0;32m----> 5\u001b[0;31m     \u001b[0mr\u001b[0m \u001b[0;34m=\u001b[0m \u001b[0mdb\u001b[0m\u001b[0;34m.\u001b[0m\u001b[0musers\u001b[0m\u001b[0;34m.\u001b[0m\u001b[0minsert_one\u001b[0m\u001b[0;34m(\u001b[0m\u001b[0muser\u001b[0m\u001b[0;34m)\u001b[0m\u001b[0;34m\u001b[0m\u001b[0m\n\u001b[0m\u001b[1;32m      6\u001b[0m     \u001b[0;32mreturn\u001b[0m \u001b[0mr\u001b[0m\u001b[0;34m.\u001b[0m\u001b[0minserted_id\u001b[0m\u001b[0;34m\u001b[0m\u001b[0m\n",
      "\u001b[0;32m~/anaconda3/lib/python3.6/site-packages/pymongo/collection.py\u001b[0m in \u001b[0;36minsert_one\u001b[0;34m(self, document, bypass_document_validation, session)\u001b[0m\n\u001b[1;32m    680\u001b[0m             self._insert(document,\n\u001b[1;32m    681\u001b[0m                          \u001b[0mbypass_doc_val\u001b[0m\u001b[0;34m=\u001b[0m\u001b[0mbypass_document_validation\u001b[0m\u001b[0;34m,\u001b[0m\u001b[0;34m\u001b[0m\u001b[0m\n\u001b[0;32m--> 682\u001b[0;31m                          session=session),\n\u001b[0m\u001b[1;32m    683\u001b[0m             self.write_concern.acknowledged)\n\u001b[1;32m    684\u001b[0m \u001b[0;34m\u001b[0m\u001b[0m\n",
      "\u001b[0;32m~/anaconda3/lib/python3.6/site-packages/pymongo/collection.py\u001b[0m in \u001b[0;36m_insert\u001b[0;34m(self, docs, ordered, check_keys, manipulate, write_concern, op_id, bypass_doc_val, session)\u001b[0m\n\u001b[1;32m    596\u001b[0m             return self._insert_one(\n\u001b[1;32m    597\u001b[0m                 \u001b[0mdocs\u001b[0m\u001b[0;34m,\u001b[0m \u001b[0mordered\u001b[0m\u001b[0;34m,\u001b[0m \u001b[0mcheck_keys\u001b[0m\u001b[0;34m,\u001b[0m \u001b[0mmanipulate\u001b[0m\u001b[0;34m,\u001b[0m \u001b[0mwrite_concern\u001b[0m\u001b[0;34m,\u001b[0m \u001b[0mop_id\u001b[0m\u001b[0;34m,\u001b[0m\u001b[0;34m\u001b[0m\u001b[0m\n\u001b[0;32m--> 598\u001b[0;31m                 bypass_doc_val, session)\n\u001b[0m\u001b[1;32m    599\u001b[0m \u001b[0;34m\u001b[0m\u001b[0m\n\u001b[1;32m    600\u001b[0m         \u001b[0mids\u001b[0m \u001b[0;34m=\u001b[0m \u001b[0;34m[\u001b[0m\u001b[0;34m]\u001b[0m\u001b[0;34m\u001b[0m\u001b[0m\n",
      "\u001b[0;32m~/anaconda3/lib/python3.6/site-packages/pymongo/collection.py\u001b[0m in \u001b[0;36m_insert_one\u001b[0;34m(self, doc, ordered, check_keys, manipulate, write_concern, op_id, bypass_doc_val, session)\u001b[0m\n\u001b[1;32m    577\u001b[0m             result = self.__database.client._retryable_write(\n\u001b[1;32m    578\u001b[0m                 True, _insert_command, session)\n\u001b[0;32m--> 579\u001b[0;31m             \u001b[0m_check_write_command_response\u001b[0m\u001b[0;34m(\u001b[0m\u001b[0mresult\u001b[0m\u001b[0;34m)\u001b[0m\u001b[0;34m\u001b[0m\u001b[0m\n\u001b[0m\u001b[1;32m    580\u001b[0m         \u001b[0;32melse\u001b[0m\u001b[0;34m:\u001b[0m\u001b[0;34m\u001b[0m\u001b[0m\n\u001b[1;32m    581\u001b[0m             \u001b[0;32mwith\u001b[0m \u001b[0mself\u001b[0m\u001b[0;34m.\u001b[0m\u001b[0m_socket_for_writes\u001b[0m\u001b[0;34m(\u001b[0m\u001b[0;34m)\u001b[0m \u001b[0;32mas\u001b[0m \u001b[0msock_info\u001b[0m\u001b[0;34m:\u001b[0m\u001b[0;34m\u001b[0m\u001b[0m\n",
      "\u001b[0;32m~/anaconda3/lib/python3.6/site-packages/pymongo/helpers.py\u001b[0m in \u001b[0;36m_check_write_command_response\u001b[0;34m(result)\u001b[0m\n\u001b[1;32m    206\u001b[0m     \u001b[0mwrite_errors\u001b[0m \u001b[0;34m=\u001b[0m \u001b[0mresult\u001b[0m\u001b[0;34m.\u001b[0m\u001b[0mget\u001b[0m\u001b[0;34m(\u001b[0m\u001b[0;34m\"writeErrors\"\u001b[0m\u001b[0;34m)\u001b[0m\u001b[0;34m\u001b[0m\u001b[0m\n\u001b[1;32m    207\u001b[0m     \u001b[0;32mif\u001b[0m \u001b[0mwrite_errors\u001b[0m\u001b[0;34m:\u001b[0m\u001b[0;34m\u001b[0m\u001b[0m\n\u001b[0;32m--> 208\u001b[0;31m         \u001b[0m_raise_last_write_error\u001b[0m\u001b[0;34m(\u001b[0m\u001b[0mwrite_errors\u001b[0m\u001b[0;34m)\u001b[0m\u001b[0;34m\u001b[0m\u001b[0m\n\u001b[0m\u001b[1;32m    209\u001b[0m \u001b[0;34m\u001b[0m\u001b[0m\n\u001b[1;32m    210\u001b[0m     \u001b[0merror\u001b[0m \u001b[0;34m=\u001b[0m \u001b[0mresult\u001b[0m\u001b[0;34m.\u001b[0m\u001b[0mget\u001b[0m\u001b[0;34m(\u001b[0m\u001b[0;34m\"writeConcernError\"\u001b[0m\u001b[0;34m)\u001b[0m\u001b[0;34m\u001b[0m\u001b[0m\n",
      "\u001b[0;32m~/anaconda3/lib/python3.6/site-packages/pymongo/helpers.py\u001b[0m in \u001b[0;36m_raise_last_write_error\u001b[0;34m(write_errors)\u001b[0m\n\u001b[1;32m    187\u001b[0m     \u001b[0merror\u001b[0m \u001b[0;34m=\u001b[0m \u001b[0mwrite_errors\u001b[0m\u001b[0;34m[\u001b[0m\u001b[0;34m-\u001b[0m\u001b[0;36m1\u001b[0m\u001b[0;34m]\u001b[0m\u001b[0;34m\u001b[0m\u001b[0m\n\u001b[1;32m    188\u001b[0m     \u001b[0;32mif\u001b[0m \u001b[0merror\u001b[0m\u001b[0;34m.\u001b[0m\u001b[0mget\u001b[0m\u001b[0;34m(\u001b[0m\u001b[0;34m\"code\"\u001b[0m\u001b[0;34m)\u001b[0m \u001b[0;34m==\u001b[0m \u001b[0;36m11000\u001b[0m\u001b[0;34m:\u001b[0m\u001b[0;34m\u001b[0m\u001b[0m\n\u001b[0;32m--> 189\u001b[0;31m         \u001b[0;32mraise\u001b[0m \u001b[0mDuplicateKeyError\u001b[0m\u001b[0;34m(\u001b[0m\u001b[0merror\u001b[0m\u001b[0;34m.\u001b[0m\u001b[0mget\u001b[0m\u001b[0;34m(\u001b[0m\u001b[0;34m\"errmsg\"\u001b[0m\u001b[0;34m)\u001b[0m\u001b[0;34m,\u001b[0m \u001b[0;36m11000\u001b[0m\u001b[0;34m,\u001b[0m \u001b[0merror\u001b[0m\u001b[0;34m)\u001b[0m\u001b[0;34m\u001b[0m\u001b[0m\n\u001b[0m\u001b[1;32m    190\u001b[0m     \u001b[0;32mraise\u001b[0m \u001b[0mWriteError\u001b[0m\u001b[0;34m(\u001b[0m\u001b[0merror\u001b[0m\u001b[0;34m.\u001b[0m\u001b[0mget\u001b[0m\u001b[0;34m(\u001b[0m\u001b[0;34m\"errmsg\"\u001b[0m\u001b[0;34m)\u001b[0m\u001b[0;34m,\u001b[0m \u001b[0merror\u001b[0m\u001b[0;34m.\u001b[0m\u001b[0mget\u001b[0m\u001b[0;34m(\u001b[0m\u001b[0;34m\"code\"\u001b[0m\u001b[0;34m)\u001b[0m\u001b[0;34m,\u001b[0m \u001b[0merror\u001b[0m\u001b[0;34m)\u001b[0m\u001b[0;34m\u001b[0m\u001b[0m\n\u001b[1;32m    191\u001b[0m \u001b[0;34m\u001b[0m\u001b[0m\n",
      "\u001b[0;31mDuplicateKeyError\u001b[0m: E11000 duplicate key error collection: brodemy.users index: email_1 dup key: { : \"gustahrc@hotmail.com\" }"
     ]
    }
   ],
   "source": [
    "usr_id = add_user(make_user(\"Gustavo\",\"12234\",\"gustahrc@hotmail.com\"))"
   ]
  },
  {
   "cell_type": "code",
   "execution_count": 120,
   "metadata": {},
   "outputs": [
    {
     "ename": "NameError",
     "evalue": "name 'usr_id' is not defined",
     "output_type": "error",
     "traceback": [
      "\u001b[0;31m---------------------------------------------------------------------------\u001b[0m",
      "\u001b[0;31mNameError\u001b[0m                                 Traceback (most recent call last)",
      "\u001b[0;32m<ipython-input-120-c02c4c32d34f>\u001b[0m in \u001b[0;36m<module>\u001b[0;34m()\u001b[0m\n\u001b[0;32m----> 1\u001b[0;31m \u001b[0musr_id\u001b[0m\u001b[0;34m\u001b[0m\u001b[0m\n\u001b[0m",
      "\u001b[0;31mNameError\u001b[0m: name 'usr_id' is not defined"
     ]
    }
   ],
   "source": [
    "usr_id"
   ]
  },
  {
   "cell_type": "code",
   "execution_count": 121,
   "metadata": {},
   "outputs": [
    {
     "data": {
      "text/plain": [
       "True"
      ]
     },
     "execution_count": 121,
     "metadata": {},
     "output_type": "execute_result"
    }
   ],
   "source": [
    "add_course_to_user(maria_id, add_course(make_course(\"Nome teste\",\"Aprenda como ser um mandraque\",\n",
    "                                                  lucas_id, make_category(\"Software\",\"Python\"),\n",
    "                                                  \"Hard\",[\"Python basico\"])))"
   ]
  },
  {
   "cell_type": "markdown",
   "metadata": {},
   "source": [
    "## Visualizando os cursos dos instrutores:"
   ]
  },
  {
   "cell_type": "code",
   "execution_count": 67,
   "metadata": {
    "collapsed": true
   },
   "outputs": [],
   "source": [
    "def see_instructor_courses(instructor = None):\n",
    "    lookup = {\n",
    "        \"$lookup\" : {\n",
    "            \"from\" : \"courses\",\n",
    "            \"localField\" : \"_id\",\n",
    "            \"foreignField\" : \"instructor_id\",\n",
    "            \"as\" : \"instructor_courses\"\n",
    "        }\n",
    "    }\n",
    "    \n",
    "    project = {\n",
    "        \"$project\" : {\n",
    "            \"total_courses\" : {\n",
    "                \"$size\" : \"$instructor_courses\"\n",
    "            },\n",
    "            \"email\" : 1,\n",
    "            \"name\" : 1,\n",
    "            \"instructor_courses\" : 1\n",
    "        }\n",
    "    }\n",
    "    \n",
    "    if isinstance(instructor, ObjectId):\n",
    "        match = {\n",
    "            \"$match\" : {\n",
    "                \"_id\" : instructor\n",
    "            }\n",
    "        }\n",
    "    elif isinstance(instructor, str):\n",
    "        match = {\n",
    "            \"$match\" : {\n",
    "                \"email\" : instructor \n",
    "            }\n",
    "        }\n",
    "    else:\n",
    "        match = {\n",
    "            \"$match\" : {\n",
    "                \"total_courses\" : {\n",
    "                    \"$gt\" : 0\n",
    "                }\n",
    "            }\n",
    "        }\n",
    "    \n",
    "    pipeline = [lookup, project, match]\n",
    "\n",
    "    return list(db.users.aggregate(pipeline))"
   ]
  },
  {
   "cell_type": "code",
   "execution_count": 70,
   "metadata": {},
   "outputs": [
    {
     "name": "stdout",
     "output_type": "stream",
     "text": [
      "[{'_id': ObjectId('5b0f392031b3522887252ad1'),\n",
      "  'email': 'lucasabbade@hotmail.com',\n",
      "  'instructor_courses': [{'_id': ObjectId('5b11693e31b35202d4c8ef5a'),\n",
      "                          'category': {'category': 'software',\n",
      "                                       'sub_category': 'python'},\n",
      "                          'classes': [],\n",
      "                          'description': 'Introductory Python',\n",
      "                          'image_src': None,\n",
      "                          'instructor_id': ObjectId('5b0f392031b3522887252ad1'),\n",
      "                          'level': 'basic',\n",
      "                          'name': 'Python 101',\n",
      "                          'requisites': []},\n",
      "                         {'_id': ObjectId('5b1169eb31b35202d4c8ef5c'),\n",
      "                          'category': {'category': 'banco de dados',\n",
      "                                       'sub_category': 'mongodb'},\n",
      "                          'classes': [{'description': 'Course presentation',\n",
      "                                       'duration': 5,\n",
      "                                       'name': 'Introduction',\n",
      "                                       'url': 'https://www.youtube.com/watch?v=9OPP_1eAENg'}],\n",
      "                          'description': 'Introductory MongoDB',\n",
      "                          'image_src': None,\n",
      "                          'instructor_id': ObjectId('5b0f392031b3522887252ad1'),\n",
      "                          'level': 'basic',\n",
      "                          'name': 'MongoDB Basics',\n",
      "                          'requisites': []}],\n",
      "  'name': 'lucas',\n",
      "  'total_courses': 2}]\n"
     ]
    }
   ],
   "source": [
    "pprint(see_instructor_courses())"
   ]
  },
  {
   "cell_type": "code",
   "execution_count": 71,
   "metadata": {},
   "outputs": [
    {
     "name": "stdout",
     "output_type": "stream",
     "text": [
      "[{'_id': ObjectId('5b11681c31b35202d4c8ef59'),\n",
      "  'email': 'maria.jose@gmail.com',\n",
      "  'instructor_courses': [],\n",
      "  'name': 'maria',\n",
      "  'total_courses': 0}]\n"
     ]
    }
   ],
   "source": [
    "pprint(see_instructor_courses(\"maria.jose@gmail.com\"))"
   ]
  },
  {
   "cell_type": "code",
   "execution_count": 72,
   "metadata": {},
   "outputs": [
    {
     "name": "stdout",
     "output_type": "stream",
     "text": [
      "[{'_id': ObjectId('5b11681c31b35202d4c8ef59'),\n",
      "  'email': 'maria.jose@gmail.com',\n",
      "  'instructor_courses': [],\n",
      "  'name': 'maria',\n",
      "  'total_courses': 0}]\n"
     ]
    }
   ],
   "source": [
    "pprint(see_instructor_courses(maria_id))"
   ]
  },
  {
   "cell_type": "code",
   "execution_count": 73,
   "metadata": {},
   "outputs": [
    {
     "name": "stdout",
     "output_type": "stream",
     "text": [
      "[{'_id': ObjectId('5b0f392031b3522887252ad1'),\n",
      "  'email': 'lucasabbade@hotmail.com',\n",
      "  'instructor_courses': [{'_id': ObjectId('5b11693e31b35202d4c8ef5a'),\n",
      "                          'category': {'category': 'software',\n",
      "                                       'sub_category': 'python'},\n",
      "                          'classes': [],\n",
      "                          'description': 'Introductory Python',\n",
      "                          'image_src': None,\n",
      "                          'instructor_id': ObjectId('5b0f392031b3522887252ad1'),\n",
      "                          'level': 'basic',\n",
      "                          'name': 'Python 101',\n",
      "                          'requisites': []},\n",
      "                         {'_id': ObjectId('5b1169eb31b35202d4c8ef5c'),\n",
      "                          'category': {'category': 'banco de dados',\n",
      "                                       'sub_category': 'mongodb'},\n",
      "                          'classes': [{'description': 'Course presentation',\n",
      "                                       'duration': 5,\n",
      "                                       'name': 'Introduction',\n",
      "                                       'url': 'https://www.youtube.com/watch?v=9OPP_1eAENg'}],\n",
      "                          'description': 'Introductory MongoDB',\n",
      "                          'image_src': None,\n",
      "                          'instructor_id': ObjectId('5b0f392031b3522887252ad1'),\n",
      "                          'level': 'basic',\n",
      "                          'name': 'MongoDB Basics',\n",
      "                          'requisites': []}],\n",
      "  'name': 'lucas',\n",
      "  'total_courses': 2}]\n"
     ]
    }
   ],
   "source": [
    "pprint(see_instructor_courses(lucas_id))"
   ]
  },
  {
   "cell_type": "markdown",
   "metadata": {},
   "source": [
    "## Visualizando os cursos de um aluno:"
   ]
  },
  {
   "cell_type": "code",
   "execution_count": 68,
   "metadata": {
    "collapsed": true
   },
   "outputs": [],
   "source": [
    "def see_user_courses(user = None):\n",
    "    unwind = {\n",
    "        \"$unwind\" : \"$courses\"\n",
    "    }\n",
    "    \n",
    "    lookup = {\n",
    "        \"$lookup\" : {\n",
    "            \"from\" : \"courses\",\n",
    "            \"localField\" : \"courses\",\n",
    "            \"foreignField\" : \"_id\",\n",
    "            \"as\" : \"course\"\n",
    "        }\n",
    "    }\n",
    "    \n",
    "    project = {\n",
    "        \"$project\" : {\n",
    "            \"course\" : 1,\n",
    "            \"email\" : 1,\n",
    "            \"name\" : 1\n",
    "        }\n",
    "    }\n",
    "    \n",
    "    if isinstance(user, ObjectId):\n",
    "        match = {\n",
    "            \"$match\" : {\n",
    "                \"_id\" : user\n",
    "            }\n",
    "        }\n",
    "    elif isinstance(user, str):\n",
    "        match = {\n",
    "            \"$match\" : {\n",
    "                \"email\" : user \n",
    "            }\n",
    "        }\n",
    "    else:\n",
    "        raise TypeError(\"user should be either a string or an ObjectId\")\n",
    "    \n",
    "    pipeline = [unwind, lookup, project, match]\n",
    "\n",
    "    return list(db.users.aggregate(pipeline))"
   ]
  },
  {
   "cell_type": "code",
   "execution_count": 86,
   "metadata": {},
   "outputs": [
    {
     "name": "stdout",
     "output_type": "stream",
     "text": [
      "[{'_id': ObjectId('5b11681c31b35202d4c8ef59'),\n",
      "  'course': [{'_id': ObjectId('5b1169eb31b35202d4c8ef5c'),\n",
      "              'category': {'category': 'banco de dados',\n",
      "                           'sub_category': 'mongodb'},\n",
      "              'classes': [{'description': 'Course presentation',\n",
      "                           'duration': 5,\n",
      "                           'name': 'Introduction',\n",
      "                           'url': 'https://www.youtube.com/watch?v=9OPP_1eAENg'}],\n",
      "              'description': 'Introductory MongoDB',\n",
      "              'image_src': None,\n",
      "              'instructor_id': ObjectId('5b0f392031b3522887252ad1'),\n",
      "              'level': 'basic',\n",
      "              'name': 'MongoDB Basics',\n",
      "              'requisites': []}],\n",
      "  'email': 'maria.jose@gmail.com',\n",
      "  'name': 'maria'},\n",
      " {'_id': ObjectId('5b11681c31b35202d4c8ef59'),\n",
      "  'course': [{'_id': ObjectId('5b11693e31b35202d4c8ef5a'),\n",
      "              'category': {'category': 'software', 'sub_category': 'python'},\n",
      "              'classes': [],\n",
      "              'description': 'Introductory Python',\n",
      "              'image_src': None,\n",
      "              'instructor_id': ObjectId('5b0f392031b3522887252ad1'),\n",
      "              'level': 'basic',\n",
      "              'name': 'Python 101',\n",
      "              'requisites': []}],\n",
      "  'email': 'maria.jose@gmail.com',\n",
      "  'name': 'maria'}]\n"
     ]
    }
   ],
   "source": [
    "pprint(see_user_courses(\"maria.jose@gmail.com\"))"
   ]
  },
  {
   "cell_type": "code",
   "execution_count": 122,
   "metadata": {},
   "outputs": [
    {
     "name": "stdout",
     "output_type": "stream",
     "text": [
      "[{'_id': ObjectId('5b1167ee31b35202d4c8ef58'),\n",
      "  'courses': [],\n",
      "  'email': 'joao.estrela@gmail.com',\n",
      "  'name': 'joao',\n",
      "  'password': 'estrela'},\n",
      " {'_id': ObjectId('5b11681c31b35202d4c8ef59'),\n",
      "  'courses': [ObjectId('5b219b1231b3527b09786d8c')],\n",
      "  'email': 'maria.jose@gmail.com',\n",
      "  'name': 'maria',\n",
      "  'password': 'jose'},\n",
      " {'_id': ObjectId('5b1f17af31b3525df1082a63'),\n",
      "  'courses': [],\n",
      "  'email': 'pink@gmail.com',\n",
      "  'name': 'pink',\n",
      "  'password': 'b123'},\n",
      " {'_id': ObjectId('5b1f1e2e31b3525df1082a65'),\n",
      "  'courses': [],\n",
      "  'email': 'gustahrc@hotmail.com',\n",
      "  'name': 'Gustavo',\n",
      "  'password': '12234'},\n",
      " {'_id': ObjectId('5b219a9f31b3527b09786d89'),\n",
      "  'courses': [],\n",
      "  'email': 'lucas@gmail.com',\n",
      "  'name': 'lucas',\n",
      "  'password': 'l1234'}]\n"
     ]
    }
   ],
   "source": [
    "pprint(list(db.users.find()))"
   ]
  },
  {
   "cell_type": "code",
   "execution_count": 123,
   "metadata": {},
   "outputs": [
    {
     "name": "stdout",
     "output_type": "stream",
     "text": [
      "[{'_id': ObjectId('5b219aa131b3527b09786d8a'),\n",
      "  'category': {'category': 'banco de dados', 'sub_category': 'mongodb'},\n",
      "  'classes': [],\n",
      "  'description': 'Introductory MongoDB',\n",
      "  'image_src': None,\n",
      "  'instructor_id': ObjectId('5b219a9f31b3527b09786d89'),\n",
      "  'level': 'basic',\n",
      "  'name': 'MongoDB Basics',\n",
      "  'requisites': []},\n",
      " {'_id': ObjectId('5b219b1231b3527b09786d8c'),\n",
      "  'category': {'category': 'Software', 'sub_category': 'Python'},\n",
      "  'classes': [],\n",
      "  'description': 'Aprenda como ser um mandraque',\n",
      "  'image_src': None,\n",
      "  'instructor_id': ObjectId('5b219a9f31b3527b09786d89'),\n",
      "  'level': 'Hard',\n",
      "  'name': 'Nome teste',\n",
      "  'requisites': ['Python basico']}]\n"
     ]
    }
   ],
   "source": [
    "pprint(list(db.courses.find()))"
   ]
  },
  {
   "cell_type": "markdown",
   "metadata": {},
   "source": [
    "## Visualizar os alunos de um curso"
   ]
  },
  {
   "cell_type": "code",
   "execution_count": 74,
   "metadata": {
    "collapsed": true
   },
   "outputs": [],
   "source": [
    "def get_students_of_course(course_id):\n",
    "    project = {\n",
    "        \"$project\" : {\n",
    "            \"has_course\" : {\n",
    "                \"$in\" : [\n",
    "                    course_id, \n",
    "                    \"$courses\"\n",
    "                ]\n",
    "            }\n",
    "        }\n",
    "    }\n",
    "    \n",
    "    match = {\n",
    "        \"$match\" : {\n",
    "            \"has_course\" : True\n",
    "        }\n",
    "    }\n",
    "    \n",
    "    pipeline = [project, match]\n",
    "    \n",
    "    return list(db.users.aggregate(pipeline))"
   ]
  },
  {
   "cell_type": "code",
   "execution_count": 75,
   "metadata": {},
   "outputs": [
    {
     "data": {
      "text/plain": [
       "[{'_id': ObjectId('5b11681c31b35202d4c8ef59'), 'has_course': True},\n",
       " {'_id': ObjectId('5b1f17af31b3525df1082a63'), 'has_course': True}]"
      ]
     },
     "execution_count": 75,
     "metadata": {},
     "output_type": "execute_result"
    }
   ],
   "source": [
    "get_students_of_course(mongo_course_id)"
   ]
  },
  {
   "cell_type": "markdown",
   "metadata": {},
   "source": [
    "## Remover o curso do aluno"
   ]
  },
  {
   "cell_type": "code",
   "execution_count": 77,
   "metadata": {
    "collapsed": true
   },
   "outputs": [],
   "source": [
    "def remove_course_from_student(course_id, student_id):\n",
    "    query = {\n",
    "        \"_id\" : student_id\n",
    "    }\n",
    "    \n",
    "    update = {\n",
    "        \"$pull\" : {\n",
    "            \"courses\" : course_id\n",
    "        }\n",
    "    }\n",
    "    \n",
    "    r = db.users.update_one(query, update)\n",
    "    return r.modified_count"
   ]
  },
  {
   "cell_type": "code",
   "execution_count": 78,
   "metadata": {},
   "outputs": [
    {
     "data": {
      "text/plain": [
       "1"
      ]
     },
     "execution_count": 78,
     "metadata": {},
     "output_type": "execute_result"
    }
   ],
   "source": [
    "remove_course_from_student(mongo_course_id, ObjectId('5b1f17af31b3525df1082a63'))"
   ]
  },
  {
   "cell_type": "code",
   "execution_count": 82,
   "metadata": {},
   "outputs": [
    {
     "data": {
      "text/plain": [
       "[{'_id': ObjectId('5b0f392031b3522887252ad1'), 'has_course': True},\n",
       " {'_id': ObjectId('5b1167ee31b35202d4c8ef58'), 'has_course': True},\n",
       " {'_id': ObjectId('5b11681c31b35202d4c8ef59'), 'has_course': True},\n",
       " {'_id': ObjectId('5b1f17af31b3525df1082a63'), 'has_course': True},\n",
       " {'_id': ObjectId('5b1f1e2e31b3525df1082a65'), 'has_course': True}]"
      ]
     },
     "execution_count": 82,
     "metadata": {},
     "output_type": "execute_result"
    }
   ],
   "source": [
    "get_students_of_course(mongo_course_id)"
   ]
  },
  {
   "cell_type": "markdown",
   "metadata": {},
   "source": [
    "## Remover o curso de todos os alunos inscritos"
   ]
  },
  {
   "cell_type": "code",
   "execution_count": 83,
   "metadata": {
    "collapsed": true
   },
   "outputs": [],
   "source": [
    "def remove_course_from_all_students(course_id):\n",
    "    students = get_students_of_course(course_id)\n",
    "    students = [i['_id'] for i in students]\n",
    "    for student in students:\n",
    "        remove_course_from_student(course_id, student)\n",
    "        \n",
    "    print(get_students_of_course(course_id))"
   ]
  },
  {
   "cell_type": "code",
   "execution_count": 84,
   "metadata": {},
   "outputs": [
    {
     "name": "stdout",
     "output_type": "stream",
     "text": [
      "[]\n"
     ]
    }
   ],
   "source": [
    "remove_course_from_all_students(mongo_course_id)"
   ]
  },
  {
   "cell_type": "markdown",
   "metadata": {},
   "source": [
    "## Apagar todos os cursos de um instrutor"
   ]
  },
  {
   "cell_type": "code",
   "execution_count": 104,
   "metadata": {
    "collapsed": true
   },
   "outputs": [],
   "source": [
    "def delete_all_courses_from_instructor(instructor_id):\n",
    "    courses = see_instructor_courses(instructor_id)\n",
    "    courses = courses[0]['instructor_courses']\n",
    "    courses_ids = [i['_id'] for i in courses]\n",
    "    \n",
    "    for course_id in courses_ids:\n",
    "        remove_course_from_all_students(course_id)\n",
    "        db.courses.delete_one({\"_id\":course_id})\n",
    "    \n",
    "    pprint(see_instructor_courses(instructor_id))"
   ]
  },
  {
   "cell_type": "code",
   "execution_count": 105,
   "metadata": {},
   "outputs": [
    {
     "name": "stdout",
     "output_type": "stream",
     "text": [
      "[]\n",
      "[]\n",
      "[{'_id': ObjectId('5b1f1e2e31b3525df1082a65'),\n",
      "  'email': 'gustahrc@hotmail.com',\n",
      "  'instructor_courses': [],\n",
      "  'name': 'Gustavo',\n",
      "  'total_courses': 0}]\n"
     ]
    }
   ],
   "source": [
    "delete_all_courses_from_instructor(ObjectId('5b1f1e2e31b3525df1082a65'))"
   ]
  },
  {
   "cell_type": "markdown",
   "metadata": {},
   "source": [
    "## Apagar usuário"
   ]
  },
  {
   "cell_type": "code",
   "execution_count": 109,
   "metadata": {
    "collapsed": true
   },
   "outputs": [],
   "source": [
    "def delete_user(user_id):\n",
    "    delete_all_courses_from_instructor(user_id)\n",
    "    db.users.delete_one({\"_id\":user_id})"
   ]
  },
  {
   "cell_type": "code",
   "execution_count": 111,
   "metadata": {},
   "outputs": [
    {
     "name": "stdout",
     "output_type": "stream",
     "text": [
      "[]\n",
      "[]\n",
      "[{'_id': ObjectId('5b0f392031b3522887252ad1'),\n",
      "  'email': 'lucasabbade@hotmail.com',\n",
      "  'instructor_courses': [],\n",
      "  'name': 'lucas',\n",
      "  'total_courses': 0}]\n"
     ]
    }
   ],
   "source": [
    "delete_user(lucas_id)"
   ]
  },
  {
   "cell_type": "code",
   "execution_count": 114,
   "metadata": {},
   "outputs": [
    {
     "name": "stdout",
     "output_type": "stream",
     "text": [
      "[{'_id': ObjectId('5b1eff96cb06673d937bcf75'),\n",
      "  'category': 'Software',\n",
      "  'subs': ['C++', 'Java', 'Python', 'Javascript', 'BIRL', 'Prolog']},\n",
      " {'_id': ObjectId('5b1f001ecb06673d937bcf77'),\n",
      "  'category': 'Banco De Dados',\n",
      "  'subs': ['MySQL', 'PostgreSQL', 'MongoDB']},\n",
      " {'_id': ObjectId('5b1f004ecb06673d937bcf78'),\n",
      "  'category': 'Engenharia',\n",
      "  'subs': ['Cálculo', 'Física', 'Eletrônica']},\n",
      " {'_id': ObjectId('5b1f01f231b3525df1082a61'), 'category': 'Teste', 'subs': []}]\n"
     ]
    }
   ],
   "source": [
    "pprint(list(db.categories.find()))"
   ]
  },
  {
   "cell_type": "markdown",
   "metadata": {},
   "source": [
    "## Listar cursos de uma sub-categoria"
   ]
  },
  {
   "cell_type": "code",
   "execution_count": 124,
   "metadata": {
    "collapsed": true
   },
   "outputs": [],
   "source": [
    "def list_courses_from_sub_category(sub_category):\n",
    "    return list(db.courses.find({\"category.sub_category\":{\"$regex\":sub_category, \"$options\":\"i\"}}))"
   ]
  },
  {
   "cell_type": "code",
   "execution_count": 127,
   "metadata": {},
   "outputs": [
    {
     "data": {
      "text/plain": [
       "[{'_id': ObjectId('5b219b1231b3527b09786d8c'),\n",
       "  'category': {'category': 'Software', 'sub_category': 'Python'},\n",
       "  'classes': [],\n",
       "  'description': 'Aprenda como ser um mandraque',\n",
       "  'image_src': None,\n",
       "  'instructor_id': ObjectId('5b219a9f31b3527b09786d89'),\n",
       "  'level': 'Hard',\n",
       "  'name': 'Nome teste',\n",
       "  'requisites': ['Python basico']}]"
      ]
     },
     "execution_count": 127,
     "metadata": {},
     "output_type": "execute_result"
    }
   ],
   "source": [
    "list_courses_from_sub_category(\"python\")"
   ]
  }
 ],
 "metadata": {
  "kernelspec": {
   "display_name": "Python 3",
   "language": "python",
   "name": "python3"
  },
  "language_info": {
   "codemirror_mode": {
    "name": "ipython",
    "version": 3
   },
   "file_extension": ".py",
   "mimetype": "text/x-python",
   "name": "python",
   "nbconvert_exporter": "python",
   "pygments_lexer": "ipython3",
   "version": "3.6.3"
  }
 },
 "nbformat": 4,
 "nbformat_minor": 2
}
